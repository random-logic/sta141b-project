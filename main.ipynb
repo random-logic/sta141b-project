{
 "cells": [
  {
   "cell_type": "code",
   "id": "initial_id",
   "metadata": {
    "collapsed": true,
    "ExecuteTime": {
     "end_time": "2025-03-13T00:07:08.353860Z",
     "start_time": "2025-03-13T00:07:04.177058Z"
    }
   },
   "source": "! pip install pandas unidecode seaborn matplotlib",
   "outputs": [
    {
     "name": "stdout",
     "output_type": "stream",
     "text": [
      "Requirement already satisfied: pandas in /opt/anaconda3/envs/sta141b-project/lib/python3.12/site-packages (2.2.3)\r\n",
      "Requirement already satisfied: unidecode in /opt/anaconda3/envs/sta141b-project/lib/python3.12/site-packages (1.3.8)\r\n",
      "Collecting seaborn\r\n",
      "  Using cached seaborn-0.13.2-py3-none-any.whl.metadata (5.4 kB)\r\n",
      "Collecting matplotlib\r\n",
      "  Downloading matplotlib-3.10.1-cp312-cp312-macosx_11_0_arm64.whl.metadata (11 kB)\r\n",
      "Requirement already satisfied: numpy>=1.26.0 in /opt/anaconda3/envs/sta141b-project/lib/python3.12/site-packages (from pandas) (2.2.3)\r\n",
      "Requirement already satisfied: python-dateutil>=2.8.2 in /opt/anaconda3/envs/sta141b-project/lib/python3.12/site-packages (from pandas) (2.9.0.post0)\r\n",
      "Requirement already satisfied: pytz>=2020.1 in /opt/anaconda3/envs/sta141b-project/lib/python3.12/site-packages (from pandas) (2025.1)\r\n",
      "Requirement already satisfied: tzdata>=2022.7 in /opt/anaconda3/envs/sta141b-project/lib/python3.12/site-packages (from pandas) (2025.1)\r\n",
      "Collecting contourpy>=1.0.1 (from matplotlib)\r\n",
      "  Using cached contourpy-1.3.1-cp312-cp312-macosx_11_0_arm64.whl.metadata (5.4 kB)\r\n",
      "Collecting cycler>=0.10 (from matplotlib)\r\n",
      "  Using cached cycler-0.12.1-py3-none-any.whl.metadata (3.8 kB)\r\n",
      "Collecting fonttools>=4.22.0 (from matplotlib)\r\n",
      "  Downloading fonttools-4.56.0-cp312-cp312-macosx_10_13_universal2.whl.metadata (101 kB)\r\n",
      "Collecting kiwisolver>=1.3.1 (from matplotlib)\r\n",
      "  Using cached kiwisolver-1.4.8-cp312-cp312-macosx_11_0_arm64.whl.metadata (6.2 kB)\r\n",
      "Requirement already satisfied: packaging>=20.0 in /opt/anaconda3/envs/sta141b-project/lib/python3.12/site-packages (from matplotlib) (24.2)\r\n",
      "Collecting pillow>=8 (from matplotlib)\r\n",
      "  Using cached pillow-11.1.0-cp312-cp312-macosx_11_0_arm64.whl.metadata (9.1 kB)\r\n",
      "Collecting pyparsing>=2.3.1 (from matplotlib)\r\n",
      "  Using cached pyparsing-3.2.1-py3-none-any.whl.metadata (5.0 kB)\r\n",
      "Requirement already satisfied: six>=1.5 in /opt/anaconda3/envs/sta141b-project/lib/python3.12/site-packages (from python-dateutil>=2.8.2->pandas) (1.16.0)\r\n",
      "Using cached seaborn-0.13.2-py3-none-any.whl (294 kB)\r\n",
      "Downloading matplotlib-3.10.1-cp312-cp312-macosx_11_0_arm64.whl (8.0 MB)\r\n",
      "\u001B[2K   \u001B[90m━━━━━━━━━━━━━━━━━━━━━━━━━━━━━━━━━━━━━━━━\u001B[0m \u001B[32m8.0/8.0 MB\u001B[0m \u001B[31m74.1 MB/s\u001B[0m eta \u001B[36m0:00:00\u001B[0m\r\n",
      "\u001B[?25hUsing cached contourpy-1.3.1-cp312-cp312-macosx_11_0_arm64.whl (255 kB)\r\n",
      "Using cached cycler-0.12.1-py3-none-any.whl (8.3 kB)\r\n",
      "Downloading fonttools-4.56.0-cp312-cp312-macosx_10_13_universal2.whl (2.7 MB)\r\n",
      "\u001B[2K   \u001B[90m━━━━━━━━━━━━━━━━━━━━━━━━━━━━━━━━━━━━━━━━\u001B[0m \u001B[32m2.7/2.7 MB\u001B[0m \u001B[31m60.2 MB/s\u001B[0m eta \u001B[36m0:00:00\u001B[0m\r\n",
      "\u001B[?25hUsing cached kiwisolver-1.4.8-cp312-cp312-macosx_11_0_arm64.whl (65 kB)\r\n",
      "Using cached pillow-11.1.0-cp312-cp312-macosx_11_0_arm64.whl (3.1 MB)\r\n",
      "Using cached pyparsing-3.2.1-py3-none-any.whl (107 kB)\r\n",
      "Installing collected packages: pyparsing, pillow, kiwisolver, fonttools, cycler, contourpy, matplotlib, seaborn\r\n",
      "Successfully installed contourpy-1.3.1 cycler-0.12.1 fonttools-4.56.0 kiwisolver-1.4.8 matplotlib-3.10.1 pillow-11.1.0 pyparsing-3.2.1 seaborn-0.13.2\r\n"
     ]
    }
   ],
   "execution_count": 219
  },
  {
   "metadata": {
    "ExecuteTime": {
     "end_time": "2025-03-13T03:23:26.855852Z",
     "start_time": "2025-03-13T03:23:26.853400Z"
    }
   },
   "cell_type": "code",
   "source": [
    "import pandas as pd\n",
    "from unidecode import unidecode"
   ],
   "id": "b4b06ad04729bd5c",
   "outputs": [],
   "execution_count": 390
  },
  {
   "metadata": {
    "ExecuteTime": {
     "end_time": "2025-03-13T03:23:26.980081Z",
     "start_time": "2025-03-13T03:23:26.976630Z"
    }
   },
   "cell_type": "code",
   "source": [
    "# load the data\n",
    "df = pd.read_csv('menus.csv')"
   ],
   "id": "32bb0f787256b742",
   "outputs": [],
   "execution_count": 391
  },
  {
   "metadata": {
    "ExecuteTime": {
     "end_time": "2025-03-13T03:23:27.133741Z",
     "start_time": "2025-03-13T03:23:27.128874Z"
    }
   },
   "cell_type": "code",
   "source": [
    "# convert prices to numeric\n",
    "df['price'] = df['price'].apply(lambda x: pd.to_numeric(x[1:], errors='coerce'))"
   ],
   "id": "cb07cee6914abcfd",
   "outputs": [],
   "execution_count": 392
  },
  {
   "metadata": {
    "ExecuteTime": {
     "end_time": "2025-03-13T03:23:27.280284Z",
     "start_time": "2025-03-13T03:23:27.277746Z"
    }
   },
   "cell_type": "code",
   "source": [
    "non_numeric_count = df['price'].isna().sum()\n",
    "f\"Number of non-numerical values in 'price' column: {non_numeric_count}\""
   ],
   "id": "62ccf22624432e13",
   "outputs": [
    {
     "data": {
      "text/plain": [
       "\"Number of non-numerical values in 'price' column: 19\""
      ]
     },
     "execution_count": 393,
     "metadata": {},
     "output_type": "execute_result"
    }
   ],
   "execution_count": 393
  },
  {
   "metadata": {
    "ExecuteTime": {
     "end_time": "2025-03-13T03:23:27.433122Z",
     "start_time": "2025-03-13T03:23:27.430983Z"
    }
   },
   "cell_type": "code",
   "source": [
    "# Remove the non-numerical values\n",
    "df = df.dropna(subset=['price'])"
   ],
   "id": "ff7fc6ed748657a9",
   "outputs": [],
   "execution_count": 394
  },
  {
   "metadata": {
    "ExecuteTime": {
     "end_time": "2025-03-13T03:23:27.588027Z",
     "start_time": "2025-03-13T03:23:27.584940Z"
    }
   },
   "cell_type": "code",
   "source": [
    "zero_count = (df['price'] == 0).sum()\n",
    "f\"Number of 0s in 'price' column: {zero_count}\""
   ],
   "id": "6c47e5ae1cbb1a06",
   "outputs": [
    {
     "data": {
      "text/plain": [
       "\"Number of 0s in 'price' column: 7\""
      ]
     },
     "execution_count": 395,
     "metadata": {},
     "output_type": "execute_result"
    }
   ],
   "execution_count": 395
  },
  {
   "metadata": {
    "ExecuteTime": {
     "end_time": "2025-03-13T03:23:27.752342Z",
     "start_time": "2025-03-13T03:23:27.750311Z"
    }
   },
   "cell_type": "code",
   "source": [
    "# Remove 0s, since these are free stuff that are generally included anywhere\n",
    "df = df[df['price'] != 0]"
   ],
   "id": "ca04fd62a3f54e56",
   "outputs": [],
   "execution_count": 396
  },
  {
   "metadata": {
    "ExecuteTime": {
     "end_time": "2025-03-13T03:23:27.896731Z",
     "start_time": "2025-03-13T03:23:27.893891Z"
    }
   },
   "cell_type": "code",
   "source": [
    "# Filter out any non-standard characters for easier matching with our restaurants dataset\n",
    "df['name'] = (df['name']\n",
    "              .apply(unidecode)\n",
    "              .replace(r'[^a-zA-Z0-9\\- ]', '', regex=True)\n",
    "              .replace(r' +', ' ', regex=True)\n",
    "              .str.strip())"
   ],
   "id": "3f8e5c197d30d5a5",
   "outputs": [],
   "execution_count": 397
  },
  {
   "metadata": {
    "ExecuteTime": {
     "end_time": "2025-03-13T03:23:28.064971Z",
     "start_time": "2025-03-13T03:23:28.062773Z"
    }
   },
   "cell_type": "code",
   "source": [
    "# Clarify that the price is Uber local_price\n",
    "df = df.rename(columns={'price': 'uber_price'})"
   ],
   "id": "e6ba0e171d37cd35",
   "outputs": [],
   "execution_count": 398
  },
  {
   "metadata": {
    "ExecuteTime": {
     "end_time": "2025-03-13T03:23:28.236733Z",
     "start_time": "2025-03-13T03:23:28.233533Z"
    }
   },
   "cell_type": "code",
   "source": "df.head()",
   "id": "daa409132a8ce388",
   "outputs": [
    {
     "data": {
      "text/plain": [
       "               restaurant                      name  uber_price\n",
       "0  Nick The Greek - Davis         Chicken Gyro Pita       14.95\n",
       "1  Nick The Greek - Davis        BeefLamb Gyro Pita       14.95\n",
       "2  Nick The Greek - Davis              Falafel Pita       14.95\n",
       "3  Nick The Greek - Davis        BeefLamb Gyro Pita       14.95\n",
       "4  Nick The Greek - Davis  BeefLamb Gyro Pita Combo       19.75"
      ],
      "text/html": [
       "<div>\n",
       "<style scoped>\n",
       "    .dataframe tbody tr th:only-of-type {\n",
       "        vertical-align: middle;\n",
       "    }\n",
       "\n",
       "    .dataframe tbody tr th {\n",
       "        vertical-align: top;\n",
       "    }\n",
       "\n",
       "    .dataframe thead th {\n",
       "        text-align: right;\n",
       "    }\n",
       "</style>\n",
       "<table border=\"1\" class=\"dataframe\">\n",
       "  <thead>\n",
       "    <tr style=\"text-align: right;\">\n",
       "      <th></th>\n",
       "      <th>restaurant</th>\n",
       "      <th>name</th>\n",
       "      <th>uber_price</th>\n",
       "    </tr>\n",
       "  </thead>\n",
       "  <tbody>\n",
       "    <tr>\n",
       "      <th>0</th>\n",
       "      <td>Nick The Greek - Davis</td>\n",
       "      <td>Chicken Gyro Pita</td>\n",
       "      <td>14.95</td>\n",
       "    </tr>\n",
       "    <tr>\n",
       "      <th>1</th>\n",
       "      <td>Nick The Greek - Davis</td>\n",
       "      <td>BeefLamb Gyro Pita</td>\n",
       "      <td>14.95</td>\n",
       "    </tr>\n",
       "    <tr>\n",
       "      <th>2</th>\n",
       "      <td>Nick The Greek - Davis</td>\n",
       "      <td>Falafel Pita</td>\n",
       "      <td>14.95</td>\n",
       "    </tr>\n",
       "    <tr>\n",
       "      <th>3</th>\n",
       "      <td>Nick The Greek - Davis</td>\n",
       "      <td>BeefLamb Gyro Pita</td>\n",
       "      <td>14.95</td>\n",
       "    </tr>\n",
       "    <tr>\n",
       "      <th>4</th>\n",
       "      <td>Nick The Greek - Davis</td>\n",
       "      <td>BeefLamb Gyro Pita Combo</td>\n",
       "      <td>19.75</td>\n",
       "    </tr>\n",
       "  </tbody>\n",
       "</table>\n",
       "</div>"
      ]
     },
     "execution_count": 399,
     "metadata": {},
     "output_type": "execute_result"
    }
   ],
   "execution_count": 399
  },
  {
   "metadata": {
    "ExecuteTime": {
     "end_time": "2025-03-13T03:23:28.401109Z",
     "start_time": "2025-03-13T03:23:28.398842Z"
    }
   },
   "cell_type": "code",
   "source": [
    "# get the restaurant names so we match the correct menu item\n",
    "df['restaurant'].unique()"
   ],
   "id": "103dcda453bfe1d7",
   "outputs": [
    {
     "data": {
      "text/plain": [
       "array(['Nick The Greek - Davis', 'Jack in the Box (337 G St.)',\n",
       "       'Local Kitchens - Davis', 'Wingstop (408 G ST)',\n",
       "       'Blaze Pizza (212 F Street)'], dtype=object)"
      ]
     },
     "execution_count": 400,
     "metadata": {},
     "output_type": "execute_result"
    }
   ],
   "execution_count": 400
  },
  {
   "metadata": {
    "ExecuteTime": {
     "end_time": "2025-03-13T03:23:29.093483Z",
     "start_time": "2025-03-13T03:23:29.069110Z"
    }
   },
   "cell_type": "code",
   "source": [
    "# now add all local restaurants\n",
    "restaurants = [\n",
    "  ('blaze', 'Blaze Pizza (212 F Street)'),\n",
    "  ('jack_in_the_box', 'Jack in the Box (337 G St.)'),\n",
    "  ('local_kitchens', 'Local Kitchens - Davis'),\n",
    "  ('nick_the_greek', 'Nick The Greek - Davis'),\n",
    "  ('wings', 'Wingstop (408 G ST)'),\n",
    "]\n",
    "\n",
    "new_dfs = []\n",
    "\n",
    "for file_name, restaurant in restaurants:\n",
    "  df1 = df[df['restaurant'] == restaurant]\n",
    "  df2 = pd.read_csv(f'{file_name}.csv')\n",
    "  df2 = df2.rename(columns={\"Price\": \"local_price\"})\n",
    "\n",
    "  # local kitchens is in pennies\n",
    "  if file_name == 'local_kitchens':\n",
    "    df2['local_price'] = pd.to_numeric(df2['local_price'], errors='coerce') / 100\n",
    "\n",
    "  # Filter out any non-standard characters for easier matching with our restaurants dataset\n",
    "  df2['Name'] = (df2['Name']\n",
    "                 .apply(unidecode)\n",
    "                 .replace(r'[^a-zA-Z0-9\\- ]', '', regex=True)\n",
    "                 .replace(r' +', ' ', regex=True)\n",
    "                 .str.strip())\n",
    "\n",
    "  df1 = df1.merge(\n",
    "    df2,\n",
    "    left_on='name',\n",
    "    right_on='Name',\n",
    "    how='left',\n",
    "    suffixes=('', ''),\n",
    "  )\n",
    "\n",
    "  new_dfs.append(df1)\n",
    "\n",
    "df = pd.concat(new_dfs)\n",
    "df.head()"
   ],
   "id": "28305b2df2771c70",
   "outputs": [
    {
     "data": {
      "text/plain": [
       "                   restaurant                               name  uber_price  \\\n",
       "0  Blaze Pizza (212 F Street)                  Feed The Family 5       53.00   \n",
       "1  Blaze Pizza (212 F Street)                  Feed The Family 5       53.00   \n",
       "2  Blaze Pizza (212 F Street)    Green Goddess Chop Salad - Side        8.53   \n",
       "3  Blaze Pizza (212 F Street)    Green Goddess Chop Salad - Side        8.53   \n",
       "4  Blaze Pizza (212 F Street)  Green Goddess Chop Salad - Entree       13.41   \n",
       "\n",
       "                 Category                               Name local_price  \\\n",
       "0              What's Hot                  Feed The Family 5        45.0   \n",
       "1           Digital Deals                  Feed The Family 5        45.0   \n",
       "2              What's Hot    Green Goddess Chop Salad - Side        7.19   \n",
       "3  Cheesy Breads & Salads    Green Goddess Chop Salad - Side        7.19   \n",
       "4              What's Hot  Green Goddess Chop Salad - Entree       10.99   \n",
       "\n",
       "                                         Description  Base Calories  \\\n",
       "0  3 BYO 11-inch Pizzas + Your Choice any Two: En...            NaN   \n",
       "1  3 BYO 11-inch Pizzas + Your Choice any Two: En...            NaN   \n",
       "2  This fresh and vibrant salad that's packed wit...            NaN   \n",
       "3  This fresh and vibrant salad that's packed wit...            NaN   \n",
       "4  This fresh and vibrant salad that's packed wit...            NaN   \n",
       "\n",
       "   Max Calories Brand  \n",
       "0           NaN   NaN  \n",
       "1           NaN   NaN  \n",
       "2           NaN   NaN  \n",
       "3           NaN   NaN  \n",
       "4           NaN   NaN  "
      ],
      "text/html": [
       "<div>\n",
       "<style scoped>\n",
       "    .dataframe tbody tr th:only-of-type {\n",
       "        vertical-align: middle;\n",
       "    }\n",
       "\n",
       "    .dataframe tbody tr th {\n",
       "        vertical-align: top;\n",
       "    }\n",
       "\n",
       "    .dataframe thead th {\n",
       "        text-align: right;\n",
       "    }\n",
       "</style>\n",
       "<table border=\"1\" class=\"dataframe\">\n",
       "  <thead>\n",
       "    <tr style=\"text-align: right;\">\n",
       "      <th></th>\n",
       "      <th>restaurant</th>\n",
       "      <th>name</th>\n",
       "      <th>uber_price</th>\n",
       "      <th>Category</th>\n",
       "      <th>Name</th>\n",
       "      <th>local_price</th>\n",
       "      <th>Description</th>\n",
       "      <th>Base Calories</th>\n",
       "      <th>Max Calories</th>\n",
       "      <th>Brand</th>\n",
       "    </tr>\n",
       "  </thead>\n",
       "  <tbody>\n",
       "    <tr>\n",
       "      <th>0</th>\n",
       "      <td>Blaze Pizza (212 F Street)</td>\n",
       "      <td>Feed The Family 5</td>\n",
       "      <td>53.00</td>\n",
       "      <td>What's Hot</td>\n",
       "      <td>Feed The Family 5</td>\n",
       "      <td>45.0</td>\n",
       "      <td>3 BYO 11-inch Pizzas + Your Choice any Two: En...</td>\n",
       "      <td>NaN</td>\n",
       "      <td>NaN</td>\n",
       "      <td>NaN</td>\n",
       "    </tr>\n",
       "    <tr>\n",
       "      <th>1</th>\n",
       "      <td>Blaze Pizza (212 F Street)</td>\n",
       "      <td>Feed The Family 5</td>\n",
       "      <td>53.00</td>\n",
       "      <td>Digital Deals</td>\n",
       "      <td>Feed The Family 5</td>\n",
       "      <td>45.0</td>\n",
       "      <td>3 BYO 11-inch Pizzas + Your Choice any Two: En...</td>\n",
       "      <td>NaN</td>\n",
       "      <td>NaN</td>\n",
       "      <td>NaN</td>\n",
       "    </tr>\n",
       "    <tr>\n",
       "      <th>2</th>\n",
       "      <td>Blaze Pizza (212 F Street)</td>\n",
       "      <td>Green Goddess Chop Salad - Side</td>\n",
       "      <td>8.53</td>\n",
       "      <td>What's Hot</td>\n",
       "      <td>Green Goddess Chop Salad - Side</td>\n",
       "      <td>7.19</td>\n",
       "      <td>This fresh and vibrant salad that's packed wit...</td>\n",
       "      <td>NaN</td>\n",
       "      <td>NaN</td>\n",
       "      <td>NaN</td>\n",
       "    </tr>\n",
       "    <tr>\n",
       "      <th>3</th>\n",
       "      <td>Blaze Pizza (212 F Street)</td>\n",
       "      <td>Green Goddess Chop Salad - Side</td>\n",
       "      <td>8.53</td>\n",
       "      <td>Cheesy Breads &amp; Salads</td>\n",
       "      <td>Green Goddess Chop Salad - Side</td>\n",
       "      <td>7.19</td>\n",
       "      <td>This fresh and vibrant salad that's packed wit...</td>\n",
       "      <td>NaN</td>\n",
       "      <td>NaN</td>\n",
       "      <td>NaN</td>\n",
       "    </tr>\n",
       "    <tr>\n",
       "      <th>4</th>\n",
       "      <td>Blaze Pizza (212 F Street)</td>\n",
       "      <td>Green Goddess Chop Salad - Entree</td>\n",
       "      <td>13.41</td>\n",
       "      <td>What's Hot</td>\n",
       "      <td>Green Goddess Chop Salad - Entree</td>\n",
       "      <td>10.99</td>\n",
       "      <td>This fresh and vibrant salad that's packed wit...</td>\n",
       "      <td>NaN</td>\n",
       "      <td>NaN</td>\n",
       "      <td>NaN</td>\n",
       "    </tr>\n",
       "  </tbody>\n",
       "</table>\n",
       "</div>"
      ]
     },
     "execution_count": 401,
     "metadata": {},
     "output_type": "execute_result"
    }
   ],
   "execution_count": 401
  },
  {
   "metadata": {
    "ExecuteTime": {
     "end_time": "2025-03-13T03:23:29.723384Z",
     "start_time": "2025-03-13T03:23:29.720161Z"
    }
   },
   "cell_type": "code",
   "source": "f'There are {df['local_price'].isna().sum()} local restaurant prices missing'",
   "id": "619f7c3c71eb52cf",
   "outputs": [
    {
     "data": {
      "text/plain": [
       "'There are 52 local restaurant prices missing'"
      ]
     },
     "execution_count": 402,
     "metadata": {},
     "output_type": "execute_result"
    }
   ],
   "execution_count": 402
  },
  {
   "metadata": {
    "ExecuteTime": {
     "end_time": "2025-03-13T03:23:30.157603Z",
     "start_time": "2025-03-13T03:23:30.151448Z"
    }
   },
   "cell_type": "code",
   "source": "df[df['local_price'].isna()].head()",
   "id": "c68cd4f7e1bb2def",
   "outputs": [
    {
     "data": {
      "text/plain": [
       "                    restaurant                        name  uber_price  \\\n",
       "12  Blaze Pizza (212 F Street)         Vegan Pizza 11-inch       19.95   \n",
       "13  Blaze Pizza (212 F Street)    Vegetarian Pizza 11-inch       21.95   \n",
       "67  Blaze Pizza (212 F Street)       Coke Bottle 20oz591ml        4.62   \n",
       "68  Blaze Pizza (212 F Street)  Diet Coke Bottle 20oz591ml        3.99   \n",
       "70  Blaze Pizza (212 F Street)     Sprite Bottle 20oz591ml        4.62   \n",
       "\n",
       "   Category Name local_price Description  Base Calories  Max Calories Brand  \n",
       "12      NaN  NaN         NaN         NaN            NaN           NaN   NaN  \n",
       "13      NaN  NaN         NaN         NaN            NaN           NaN   NaN  \n",
       "67      NaN  NaN         NaN         NaN            NaN           NaN   NaN  \n",
       "68      NaN  NaN         NaN         NaN            NaN           NaN   NaN  \n",
       "70      NaN  NaN         NaN         NaN            NaN           NaN   NaN  "
      ],
      "text/html": [
       "<div>\n",
       "<style scoped>\n",
       "    .dataframe tbody tr th:only-of-type {\n",
       "        vertical-align: middle;\n",
       "    }\n",
       "\n",
       "    .dataframe tbody tr th {\n",
       "        vertical-align: top;\n",
       "    }\n",
       "\n",
       "    .dataframe thead th {\n",
       "        text-align: right;\n",
       "    }\n",
       "</style>\n",
       "<table border=\"1\" class=\"dataframe\">\n",
       "  <thead>\n",
       "    <tr style=\"text-align: right;\">\n",
       "      <th></th>\n",
       "      <th>restaurant</th>\n",
       "      <th>name</th>\n",
       "      <th>uber_price</th>\n",
       "      <th>Category</th>\n",
       "      <th>Name</th>\n",
       "      <th>local_price</th>\n",
       "      <th>Description</th>\n",
       "      <th>Base Calories</th>\n",
       "      <th>Max Calories</th>\n",
       "      <th>Brand</th>\n",
       "    </tr>\n",
       "  </thead>\n",
       "  <tbody>\n",
       "    <tr>\n",
       "      <th>12</th>\n",
       "      <td>Blaze Pizza (212 F Street)</td>\n",
       "      <td>Vegan Pizza 11-inch</td>\n",
       "      <td>19.95</td>\n",
       "      <td>NaN</td>\n",
       "      <td>NaN</td>\n",
       "      <td>NaN</td>\n",
       "      <td>NaN</td>\n",
       "      <td>NaN</td>\n",
       "      <td>NaN</td>\n",
       "      <td>NaN</td>\n",
       "    </tr>\n",
       "    <tr>\n",
       "      <th>13</th>\n",
       "      <td>Blaze Pizza (212 F Street)</td>\n",
       "      <td>Vegetarian Pizza 11-inch</td>\n",
       "      <td>21.95</td>\n",
       "      <td>NaN</td>\n",
       "      <td>NaN</td>\n",
       "      <td>NaN</td>\n",
       "      <td>NaN</td>\n",
       "      <td>NaN</td>\n",
       "      <td>NaN</td>\n",
       "      <td>NaN</td>\n",
       "    </tr>\n",
       "    <tr>\n",
       "      <th>67</th>\n",
       "      <td>Blaze Pizza (212 F Street)</td>\n",
       "      <td>Coke Bottle 20oz591ml</td>\n",
       "      <td>4.62</td>\n",
       "      <td>NaN</td>\n",
       "      <td>NaN</td>\n",
       "      <td>NaN</td>\n",
       "      <td>NaN</td>\n",
       "      <td>NaN</td>\n",
       "      <td>NaN</td>\n",
       "      <td>NaN</td>\n",
       "    </tr>\n",
       "    <tr>\n",
       "      <th>68</th>\n",
       "      <td>Blaze Pizza (212 F Street)</td>\n",
       "      <td>Diet Coke Bottle 20oz591ml</td>\n",
       "      <td>3.99</td>\n",
       "      <td>NaN</td>\n",
       "      <td>NaN</td>\n",
       "      <td>NaN</td>\n",
       "      <td>NaN</td>\n",
       "      <td>NaN</td>\n",
       "      <td>NaN</td>\n",
       "      <td>NaN</td>\n",
       "    </tr>\n",
       "    <tr>\n",
       "      <th>70</th>\n",
       "      <td>Blaze Pizza (212 F Street)</td>\n",
       "      <td>Sprite Bottle 20oz591ml</td>\n",
       "      <td>4.62</td>\n",
       "      <td>NaN</td>\n",
       "      <td>NaN</td>\n",
       "      <td>NaN</td>\n",
       "      <td>NaN</td>\n",
       "      <td>NaN</td>\n",
       "      <td>NaN</td>\n",
       "      <td>NaN</td>\n",
       "    </tr>\n",
       "  </tbody>\n",
       "</table>\n",
       "</div>"
      ]
     },
     "execution_count": 403,
     "metadata": {},
     "output_type": "execute_result"
    }
   ],
   "execution_count": 403
  },
  {
   "metadata": {
    "ExecuteTime": {
     "end_time": "2025-03-13T03:23:30.696531Z",
     "start_time": "2025-03-13T03:23:30.693240Z"
    }
   },
   "cell_type": "code",
   "source": [
    "# I inspected these values, and couldn't match them manually, so we will just drop them\n",
    "df = df[~df['local_price'].isna()]"
   ],
   "id": "bb1bf3fba578ab80",
   "outputs": [],
   "execution_count": 404
  },
  {
   "metadata": {
    "ExecuteTime": {
     "end_time": "2025-03-13T03:23:31.103998Z",
     "start_time": "2025-03-13T03:23:31.100975Z"
    }
   },
   "cell_type": "code",
   "source": "df = df.drop(columns=[\"Base Calories\", \"Max Calories\", \"Brand\", \"Name\"])",
   "id": "a2706df1b4c1865",
   "outputs": [],
   "execution_count": 405
  },
  {
   "metadata": {
    "ExecuteTime": {
     "end_time": "2025-03-13T03:23:31.587475Z",
     "start_time": "2025-03-13T03:23:31.582806Z"
    }
   },
   "cell_type": "code",
   "source": "df.head()",
   "id": "b2d640e9aa17e090",
   "outputs": [
    {
     "data": {
      "text/plain": [
       "                   restaurant                               name  uber_price  \\\n",
       "0  Blaze Pizza (212 F Street)                  Feed The Family 5       53.00   \n",
       "1  Blaze Pizza (212 F Street)                  Feed The Family 5       53.00   \n",
       "2  Blaze Pizza (212 F Street)    Green Goddess Chop Salad - Side        8.53   \n",
       "3  Blaze Pizza (212 F Street)    Green Goddess Chop Salad - Side        8.53   \n",
       "4  Blaze Pizza (212 F Street)  Green Goddess Chop Salad - Entree       13.41   \n",
       "\n",
       "                 Category local_price  \\\n",
       "0              What's Hot        45.0   \n",
       "1           Digital Deals        45.0   \n",
       "2              What's Hot        7.19   \n",
       "3  Cheesy Breads & Salads        7.19   \n",
       "4              What's Hot       10.99   \n",
       "\n",
       "                                         Description  \n",
       "0  3 BYO 11-inch Pizzas + Your Choice any Two: En...  \n",
       "1  3 BYO 11-inch Pizzas + Your Choice any Two: En...  \n",
       "2  This fresh and vibrant salad that's packed wit...  \n",
       "3  This fresh and vibrant salad that's packed wit...  \n",
       "4  This fresh and vibrant salad that's packed wit...  "
      ],
      "text/html": [
       "<div>\n",
       "<style scoped>\n",
       "    .dataframe tbody tr th:only-of-type {\n",
       "        vertical-align: middle;\n",
       "    }\n",
       "\n",
       "    .dataframe tbody tr th {\n",
       "        vertical-align: top;\n",
       "    }\n",
       "\n",
       "    .dataframe thead th {\n",
       "        text-align: right;\n",
       "    }\n",
       "</style>\n",
       "<table border=\"1\" class=\"dataframe\">\n",
       "  <thead>\n",
       "    <tr style=\"text-align: right;\">\n",
       "      <th></th>\n",
       "      <th>restaurant</th>\n",
       "      <th>name</th>\n",
       "      <th>uber_price</th>\n",
       "      <th>Category</th>\n",
       "      <th>local_price</th>\n",
       "      <th>Description</th>\n",
       "    </tr>\n",
       "  </thead>\n",
       "  <tbody>\n",
       "    <tr>\n",
       "      <th>0</th>\n",
       "      <td>Blaze Pizza (212 F Street)</td>\n",
       "      <td>Feed The Family 5</td>\n",
       "      <td>53.00</td>\n",
       "      <td>What's Hot</td>\n",
       "      <td>45.0</td>\n",
       "      <td>3 BYO 11-inch Pizzas + Your Choice any Two: En...</td>\n",
       "    </tr>\n",
       "    <tr>\n",
       "      <th>1</th>\n",
       "      <td>Blaze Pizza (212 F Street)</td>\n",
       "      <td>Feed The Family 5</td>\n",
       "      <td>53.00</td>\n",
       "      <td>Digital Deals</td>\n",
       "      <td>45.0</td>\n",
       "      <td>3 BYO 11-inch Pizzas + Your Choice any Two: En...</td>\n",
       "    </tr>\n",
       "    <tr>\n",
       "      <th>2</th>\n",
       "      <td>Blaze Pizza (212 F Street)</td>\n",
       "      <td>Green Goddess Chop Salad - Side</td>\n",
       "      <td>8.53</td>\n",
       "      <td>What's Hot</td>\n",
       "      <td>7.19</td>\n",
       "      <td>This fresh and vibrant salad that's packed wit...</td>\n",
       "    </tr>\n",
       "    <tr>\n",
       "      <th>3</th>\n",
       "      <td>Blaze Pizza (212 F Street)</td>\n",
       "      <td>Green Goddess Chop Salad - Side</td>\n",
       "      <td>8.53</td>\n",
       "      <td>Cheesy Breads &amp; Salads</td>\n",
       "      <td>7.19</td>\n",
       "      <td>This fresh and vibrant salad that's packed wit...</td>\n",
       "    </tr>\n",
       "    <tr>\n",
       "      <th>4</th>\n",
       "      <td>Blaze Pizza (212 F Street)</td>\n",
       "      <td>Green Goddess Chop Salad - Entree</td>\n",
       "      <td>13.41</td>\n",
       "      <td>What's Hot</td>\n",
       "      <td>10.99</td>\n",
       "      <td>This fresh and vibrant salad that's packed wit...</td>\n",
       "    </tr>\n",
       "  </tbody>\n",
       "</table>\n",
       "</div>"
      ]
     },
     "execution_count": 406,
     "metadata": {},
     "output_type": "execute_result"
    }
   ],
   "execution_count": 406
  },
  {
   "metadata": {
    "ExecuteTime": {
     "end_time": "2025-03-13T03:23:32.307758Z",
     "start_time": "2025-03-13T03:23:32.305270Z"
    }
   },
   "cell_type": "code",
   "source": "f'We now have {df.shape[0]} entries to compare'",
   "id": "2f55941fc3c492af",
   "outputs": [
    {
     "data": {
      "text/plain": [
       "'We now have 377 entries to compare'"
      ]
     },
     "execution_count": 407,
     "metadata": {},
     "output_type": "execute_result"
    }
   ],
   "execution_count": 407
  },
  {
   "metadata": {
    "ExecuteTime": {
     "end_time": "2025-03-13T03:23:32.861714Z",
     "start_time": "2025-03-13T03:23:32.858541Z"
    }
   },
   "cell_type": "code",
   "source": [
    "# Convert the local_price col to numeric\n",
    "df['local_price'] = pd.to_numeric(df['local_price'], errors='coerce')\n",
    "\n",
    "f'There are {df['local_price'].isna().sum()} unsuccessful converted values'"
   ],
   "id": "918d609f8937e354",
   "outputs": [
    {
     "data": {
      "text/plain": [
       "'There are 0 unsuccessful converted values'"
      ]
     },
     "execution_count": 408,
     "metadata": {},
     "output_type": "execute_result"
    }
   ],
   "execution_count": 408
  },
  {
   "metadata": {
    "ExecuteTime": {
     "end_time": "2025-03-13T03:23:33.406181Z",
     "start_time": "2025-03-13T03:23:33.399710Z"
    }
   },
   "cell_type": "code",
   "source": [
    "# Show the summary statistics for the different prices overall\n",
    "df[['uber_price', 'local_price']].describe()"
   ],
   "id": "2c3ab617afb61586",
   "outputs": [
    {
     "data": {
      "text/plain": [
       "       uber_price  local_price\n",
       "count  377.000000   377.000000\n",
       "mean    12.033024    10.190743\n",
       "std      8.630545     7.343377\n",
       "min      0.490000     0.490000\n",
       "25%      6.050000     5.100000\n",
       "50%     10.490000     8.750000\n",
       "75%     15.610000    13.990000\n",
       "max     57.490000    49.990000"
      ],
      "text/html": [
       "<div>\n",
       "<style scoped>\n",
       "    .dataframe tbody tr th:only-of-type {\n",
       "        vertical-align: middle;\n",
       "    }\n",
       "\n",
       "    .dataframe tbody tr th {\n",
       "        vertical-align: top;\n",
       "    }\n",
       "\n",
       "    .dataframe thead th {\n",
       "        text-align: right;\n",
       "    }\n",
       "</style>\n",
       "<table border=\"1\" class=\"dataframe\">\n",
       "  <thead>\n",
       "    <tr style=\"text-align: right;\">\n",
       "      <th></th>\n",
       "      <th>uber_price</th>\n",
       "      <th>local_price</th>\n",
       "    </tr>\n",
       "  </thead>\n",
       "  <tbody>\n",
       "    <tr>\n",
       "      <th>count</th>\n",
       "      <td>377.000000</td>\n",
       "      <td>377.000000</td>\n",
       "    </tr>\n",
       "    <tr>\n",
       "      <th>mean</th>\n",
       "      <td>12.033024</td>\n",
       "      <td>10.190743</td>\n",
       "    </tr>\n",
       "    <tr>\n",
       "      <th>std</th>\n",
       "      <td>8.630545</td>\n",
       "      <td>7.343377</td>\n",
       "    </tr>\n",
       "    <tr>\n",
       "      <th>min</th>\n",
       "      <td>0.490000</td>\n",
       "      <td>0.490000</td>\n",
       "    </tr>\n",
       "    <tr>\n",
       "      <th>25%</th>\n",
       "      <td>6.050000</td>\n",
       "      <td>5.100000</td>\n",
       "    </tr>\n",
       "    <tr>\n",
       "      <th>50%</th>\n",
       "      <td>10.490000</td>\n",
       "      <td>8.750000</td>\n",
       "    </tr>\n",
       "    <tr>\n",
       "      <th>75%</th>\n",
       "      <td>15.610000</td>\n",
       "      <td>13.990000</td>\n",
       "    </tr>\n",
       "    <tr>\n",
       "      <th>max</th>\n",
       "      <td>57.490000</td>\n",
       "      <td>49.990000</td>\n",
       "    </tr>\n",
       "  </tbody>\n",
       "</table>\n",
       "</div>"
      ]
     },
     "execution_count": 409,
     "metadata": {},
     "output_type": "execute_result"
    }
   ],
   "execution_count": 409
  },
  {
   "metadata": {
    "ExecuteTime": {
     "end_time": "2025-03-13T03:23:34.280372Z",
     "start_time": "2025-03-13T03:23:34.121707Z"
    }
   },
   "cell_type": "code",
   "source": [
    "import seaborn as sns\n",
    "import matplotlib.pyplot as plt\n",
    "\n",
    "# Create the pairplot\n",
    "g = sns.pairplot(df[['uber_price', 'local_price']])\n",
    "\n",
    "# Add y = x dashed line to each subplot\n",
    "for ax in g.axes.flat:\n",
    "  if ax is not None:\n",
    "    x_var = ax.get_xlabel()\n",
    "    y_var = ax.get_ylabel()\n",
    "    if x_var == '' or y_var == '':\n",
    "      continue\n",
    "    lims = [\n",
    "      min(ax.get_xlim()[0], ax.get_ylim()[0]),  # Get lower limit\n",
    "      max(ax.get_xlim()[1], ax.get_ylim()[1]),  # Get upper limit\n",
    "    ]\n",
    "    ax.plot(lims, lims, 'k--', alpha=0.75)\n",
    "\n",
    "# Show the plot\n",
    "plt.show()"
   ],
   "id": "974fed3152f1892f",
   "outputs": [
    {
     "data": {
      "text/plain": [
       "<Figure size 500x500 with 6 Axes>"
      ],
      "image/png": "[encoded data removed]"
     },
     "metadata": {},
     "output_type": "display_data"
    }
   ],
   "execution_count": 410
  },
  {
   "metadata": {
    "ExecuteTime": {
     "end_time": "2025-03-13T03:23:35.383723Z",
     "start_time": "2025-03-13T03:23:35.377880Z"
    }
   },
   "cell_type": "code",
   "source": "df[df[\"local_price\"] > df[\"uber_price\"]].head()",
   "id": "55aff2278bd73484",
   "outputs": [
    {
     "data": {
      "text/plain": [
       "                     restaurant  \\\n",
       "52   Blaze Pizza (212 F Street)   \n",
       "0   Jack in the Box (337 G St.)   \n",
       "1   Jack in the Box (337 G St.)   \n",
       "7   Jack in the Box (337 G St.)   \n",
       "8   Jack in the Box (337 G St.)   \n",
       "\n",
       "                                                 name  uber_price  \\\n",
       "52                          Pesto Garlic Cheesy Bread        4.87   \n",
       "0                            Big Smashed Jacktm Combo       15.61   \n",
       "1                            Big Smashed Jacktm Combo       15.61   \n",
       "7   12pc Smoke Show Smoky BBQ Crispy Boneless Wing...       15.61   \n",
       "8   12pc Smoke Show Smoky BBQ Crispy Boneless Wing...       15.61   \n",
       "\n",
       "                  Category  local_price  \\\n",
       "52  Cheesy Breads & Salads         7.99   \n",
       "0               What's New        15.78   \n",
       "1            Burger Combos        15.78   \n",
       "7               What's New        15.78   \n",
       "8           Chicken Combos        15.78   \n",
       "\n",
       "                                          Description  \n",
       "52  Our classic dough with shredded mozzarella, or...  \n",
       "0   Two 1/4lb smashed patties made w/ 100% seasone...  \n",
       "1   Two 1/4lb smashed patties made w/ 100% seasone...  \n",
       "7   12pc 100% all-white meat Crispy Boneless Wings...  \n",
       "8   12pc 100% all-white meat Crispy Boneless Wings...  "
      ],
      "text/html": [
       "<div>\n",
       "<style scoped>\n",
       "    .dataframe tbody tr th:only-of-type {\n",
       "        vertical-align: middle;\n",
       "    }\n",
       "\n",
       "    .dataframe tbody tr th {\n",
       "        vertical-align: top;\n",
       "    }\n",
       "\n",
       "    .dataframe thead th {\n",
       "        text-align: right;\n",
       "    }\n",
       "</style>\n",
       "<table border=\"1\" class=\"dataframe\">\n",
       "  <thead>\n",
       "    <tr style=\"text-align: right;\">\n",
       "      <th></th>\n",
       "      <th>restaurant</th>\n",
       "      <th>name</th>\n",
       "      <th>uber_price</th>\n",
       "      <th>Category</th>\n",
       "      <th>local_price</th>\n",
       "      <th>Description</th>\n",
       "    </tr>\n",
       "  </thead>\n",
       "  <tbody>\n",
       "    <tr>\n",
       "      <th>52</th>\n",
       "      <td>Blaze Pizza (212 F Street)</td>\n",
       "      <td>Pesto Garlic Cheesy Bread</td>\n",
       "      <td>4.87</td>\n",
       "      <td>Cheesy Breads &amp; Salads</td>\n",
       "      <td>7.99</td>\n",
       "      <td>Our classic dough with shredded mozzarella, or...</td>\n",
       "    </tr>\n",
       "    <tr>\n",
       "      <th>0</th>\n",
       "      <td>Jack in the Box (337 G St.)</td>\n",
       "      <td>Big Smashed Jacktm Combo</td>\n",
       "      <td>15.61</td>\n",
       "      <td>What's New</td>\n",
       "      <td>15.78</td>\n",
       "      <td>Two 1/4lb smashed patties made w/ 100% seasone...</td>\n",
       "    </tr>\n",
       "    <tr>\n",
       "      <th>1</th>\n",
       "      <td>Jack in the Box (337 G St.)</td>\n",
       "      <td>Big Smashed Jacktm Combo</td>\n",
       "      <td>15.61</td>\n",
       "      <td>Burger Combos</td>\n",
       "      <td>15.78</td>\n",
       "      <td>Two 1/4lb smashed patties made w/ 100% seasone...</td>\n",
       "    </tr>\n",
       "    <tr>\n",
       "      <th>7</th>\n",
       "      <td>Jack in the Box (337 G St.)</td>\n",
       "      <td>12pc Smoke Show Smoky BBQ Crispy Boneless Wing...</td>\n",
       "      <td>15.61</td>\n",
       "      <td>What's New</td>\n",
       "      <td>15.78</td>\n",
       "      <td>12pc 100% all-white meat Crispy Boneless Wings...</td>\n",
       "    </tr>\n",
       "    <tr>\n",
       "      <th>8</th>\n",
       "      <td>Jack in the Box (337 G St.)</td>\n",
       "      <td>12pc Smoke Show Smoky BBQ Crispy Boneless Wing...</td>\n",
       "      <td>15.61</td>\n",
       "      <td>Chicken Combos</td>\n",
       "      <td>15.78</td>\n",
       "      <td>12pc 100% all-white meat Crispy Boneless Wings...</td>\n",
       "    </tr>\n",
       "  </tbody>\n",
       "</table>\n",
       "</div>"
      ]
     },
     "execution_count": 411,
     "metadata": {},
     "output_type": "execute_result"
    }
   ],
   "execution_count": 411
  },
  {
   "metadata": {
    "ExecuteTime": {
     "end_time": "2025-03-13T03:23:36.806743Z",
     "start_time": "2025-03-13T03:23:36.800109Z"
    }
   },
   "cell_type": "code",
   "source": [
    "# calculate the summary statistics for how much more people pay at Uber Eats\n",
    "df['markup'] = (df['uber_price'] - df['local_price']) / df['local_price']\n",
    "df[['markup']].describe()"
   ],
   "id": "b43af1f94a84fbd3",
   "outputs": [
    {
     "data": {
      "text/plain": [
       "           markup\n",
       "count  377.000000\n",
       "mean     0.190037\n",
       "std      0.102564\n",
       "min     -0.390488\n",
       "25%      0.196000\n",
       "50%      0.212500\n",
       "75%      0.250227\n",
       "max      0.467249"
      ],
      "text/html": [
       "<div>\n",
       "<style scoped>\n",
       "    .dataframe tbody tr th:only-of-type {\n",
       "        vertical-align: middle;\n",
       "    }\n",
       "\n",
       "    .dataframe tbody tr th {\n",
       "        vertical-align: top;\n",
       "    }\n",
       "\n",
       "    .dataframe thead th {\n",
       "        text-align: right;\n",
       "    }\n",
       "</style>\n",
       "<table border=\"1\" class=\"dataframe\">\n",
       "  <thead>\n",
       "    <tr style=\"text-align: right;\">\n",
       "      <th></th>\n",
       "      <th>markup</th>\n",
       "    </tr>\n",
       "  </thead>\n",
       "  <tbody>\n",
       "    <tr>\n",
       "      <th>count</th>\n",
       "      <td>377.000000</td>\n",
       "    </tr>\n",
       "    <tr>\n",
       "      <th>mean</th>\n",
       "      <td>0.190037</td>\n",
       "    </tr>\n",
       "    <tr>\n",
       "      <th>std</th>\n",
       "      <td>0.102564</td>\n",
       "    </tr>\n",
       "    <tr>\n",
       "      <th>min</th>\n",
       "      <td>-0.390488</td>\n",
       "    </tr>\n",
       "    <tr>\n",
       "      <th>25%</th>\n",
       "      <td>0.196000</td>\n",
       "    </tr>\n",
       "    <tr>\n",
       "      <th>50%</th>\n",
       "      <td>0.212500</td>\n",
       "    </tr>\n",
       "    <tr>\n",
       "      <th>75%</th>\n",
       "      <td>0.250227</td>\n",
       "    </tr>\n",
       "    <tr>\n",
       "      <th>max</th>\n",
       "      <td>0.467249</td>\n",
       "    </tr>\n",
       "  </tbody>\n",
       "</table>\n",
       "</div>"
      ]
     },
     "execution_count": 412,
     "metadata": {},
     "output_type": "execute_result"
    }
   ],
   "execution_count": 412
  },
  {
   "metadata": {
    "ExecuteTime": {
     "end_time": "2025-03-13T03:24:38.285526Z",
     "start_time": "2025-03-13T03:24:38.277534Z"
    }
   },
   "cell_type": "code",
   "source": "df.to_csv('data.csv')",
   "id": "bfa74792562c415a",
   "outputs": [],
   "execution_count": 413
  },
  {
   "metadata": {},
   "cell_type": "code",
   "outputs": [],
   "execution_count": null,
   "source": "",
   "id": "2c0dd36439f98eaf"
  }
 ],
 "metadata": {
  "kernelspec": {
   "display_name": "Python 3",
   "language": "python",
   "name": "python3"
  },
  "language_info": {
   "codemirror_mode": {
    "name": "ipython",
    "version": 2
   },
   "file_extension": ".py",
   "mimetype": "text/x-python",
   "name": "python",
   "nbconvert_exporter": "python",
   "pygments_lexer": "ipython2",
   "version": "2.7.6"
  }
 },
 "nbformat": 4,
 "nbformat_minor": 5
}
