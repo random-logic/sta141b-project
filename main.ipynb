{
 "cells": [
  {
   "cell_type": "code",
   "id": "initial_id",
   "metadata": {
    "collapsed": true,
    "ExecuteTime": {
     "end_time": "2025-03-11T23:45:48.962205Z",
     "start_time": "2025-03-11T23:45:40.532157Z"
    }
   },
   "source": "! pip install pandas",
   "outputs": [
    {
     "name": "stdout",
     "output_type": "stream",
     "text": [
      "Collecting pandas\r\n",
      "  Using cached pandas-2.2.3-cp312-cp312-macosx_11_0_arm64.whl.metadata (89 kB)\r\n",
      "Collecting numpy>=1.26.0 (from pandas)\r\n",
      "  Downloading numpy-2.2.3-cp312-cp312-macosx_14_0_arm64.whl.metadata (62 kB)\r\n",
      "Requirement already satisfied: python-dateutil>=2.8.2 in /opt/anaconda3/envs/sta141b-project/lib/python3.12/site-packages (from pandas) (2.9.0.post0)\r\n",
      "Collecting pytz>=2020.1 (from pandas)\r\n",
      "  Using cached pytz-2025.1-py2.py3-none-any.whl.metadata (22 kB)\r\n",
      "Collecting tzdata>=2022.7 (from pandas)\r\n",
      "  Using cached tzdata-2025.1-py2.py3-none-any.whl.metadata (1.4 kB)\r\n",
      "Requirement already satisfied: six>=1.5 in /opt/anaconda3/envs/sta141b-project/lib/python3.12/site-packages (from python-dateutil>=2.8.2->pandas) (1.16.0)\r\n",
      "Using cached pandas-2.2.3-cp312-cp312-macosx_11_0_arm64.whl (11.4 MB)\r\n",
      "Downloading numpy-2.2.3-cp312-cp312-macosx_14_0_arm64.whl (5.1 MB)\r\n",
      "\u001B[2K   \u001B[90m━━━━━━━━━━━━━━━━━━━━━━━━━━━━━━━━━━━━━━━━\u001B[0m \u001B[32m5.1/5.1 MB\u001B[0m \u001B[31m72.9 MB/s\u001B[0m eta \u001B[36m0:00:00\u001B[0m\r\n",
      "\u001B[?25hUsing cached pytz-2025.1-py2.py3-none-any.whl (507 kB)\r\n",
      "Using cached tzdata-2025.1-py2.py3-none-any.whl (346 kB)\r\n",
      "Installing collected packages: pytz, tzdata, numpy, pandas\r\n",
      "Successfully installed numpy-2.2.3 pandas-2.2.3 pytz-2025.1 tzdata-2025.1\r\n"
     ]
    }
   ],
   "execution_count": 2
  },
  {
   "metadata": {
    "ExecuteTime": {
     "end_time": "2025-03-11T23:45:56.140933Z",
     "start_time": "2025-03-11T23:45:48.966104Z"
    }
   },
   "cell_type": "code",
   "source": "import pandas as pd",
   "id": "b4b06ad04729bd5c",
   "outputs": [],
   "execution_count": 3
  },
  {
   "metadata": {
    "ExecuteTime": {
     "end_time": "2025-03-11T23:46:01.726023Z",
     "start_time": "2025-03-11T23:46:01.717318Z"
    }
   },
   "cell_type": "code",
   "source": [
    "# load the data\n",
    "df = pd.read_csv('menus.csv')"
   ],
   "id": "32bb0f787256b742",
   "outputs": [],
   "execution_count": 4
  },
  {
   "metadata": {
    "ExecuteTime": {
     "end_time": "2025-03-11T23:46:06.845144Z",
     "start_time": "2025-03-11T23:46:06.834501Z"
    }
   },
   "cell_type": "code",
   "source": "df.head()",
   "id": "95f69569cd98aa1c",
   "outputs": [
    {
     "data": {
      "text/plain": [
       "               restaurant                       name   price\n",
       "0  Nick The Greek - Davis          Chicken Gyro Pita  $14.95\n",
       "1  Nick The Greek - Davis        Beef/Lamb Gyro Pita  $14.95\n",
       "2  Nick The Greek - Davis               Falafel Pita  $14.95\n",
       "3  Nick The Greek - Davis        Beef/Lamb Gyro Pita  $14.95\n",
       "4  Nick The Greek - Davis  Beef/Lamb Gyro Pita Combo  $19.75"
      ],
      "text/html": [
       "<div>\n",
       "<style scoped>\n",
       "    .dataframe tbody tr th:only-of-type {\n",
       "        vertical-align: middle;\n",
       "    }\n",
       "\n",
       "    .dataframe tbody tr th {\n",
       "        vertical-align: top;\n",
       "    }\n",
       "\n",
       "    .dataframe thead th {\n",
       "        text-align: right;\n",
       "    }\n",
       "</style>\n",
       "<table border=\"1\" class=\"dataframe\">\n",
       "  <thead>\n",
       "    <tr style=\"text-align: right;\">\n",
       "      <th></th>\n",
       "      <th>restaurant</th>\n",
       "      <th>name</th>\n",
       "      <th>price</th>\n",
       "    </tr>\n",
       "  </thead>\n",
       "  <tbody>\n",
       "    <tr>\n",
       "      <th>0</th>\n",
       "      <td>Nick The Greek - Davis</td>\n",
       "      <td>Chicken Gyro Pita</td>\n",
       "      <td>$14.95</td>\n",
       "    </tr>\n",
       "    <tr>\n",
       "      <th>1</th>\n",
       "      <td>Nick The Greek - Davis</td>\n",
       "      <td>Beef/Lamb Gyro Pita</td>\n",
       "      <td>$14.95</td>\n",
       "    </tr>\n",
       "    <tr>\n",
       "      <th>2</th>\n",
       "      <td>Nick The Greek - Davis</td>\n",
       "      <td>Falafel Pita</td>\n",
       "      <td>$14.95</td>\n",
       "    </tr>\n",
       "    <tr>\n",
       "      <th>3</th>\n",
       "      <td>Nick The Greek - Davis</td>\n",
       "      <td>Beef/Lamb Gyro Pita</td>\n",
       "      <td>$14.95</td>\n",
       "    </tr>\n",
       "    <tr>\n",
       "      <th>4</th>\n",
       "      <td>Nick The Greek - Davis</td>\n",
       "      <td>Beef/Lamb Gyro Pita Combo</td>\n",
       "      <td>$19.75</td>\n",
       "    </tr>\n",
       "  </tbody>\n",
       "</table>\n",
       "</div>"
      ]
     },
     "execution_count": 5,
     "metadata": {},
     "output_type": "execute_result"
    }
   ],
   "execution_count": 5
  },
  {
   "metadata": {},
   "cell_type": "code",
   "outputs": [],
   "execution_count": null,
   "source": "",
   "id": "62ccf22624432e13"
  }
 ],
 "metadata": {
  "kernelspec": {
   "display_name": "Python 3",
   "language": "python",
   "name": "python3"
  },
  "language_info": {
   "codemirror_mode": {
    "name": "ipython",
    "version": 2
   },
   "file_extension": ".py",
   "mimetype": "text/x-python",
   "name": "python",
   "nbconvert_exporter": "python",
   "pygments_lexer": "ipython2",
   "version": "2.7.6"
  }
 },
 "nbformat": 4,
 "nbformat_minor": 5
}
